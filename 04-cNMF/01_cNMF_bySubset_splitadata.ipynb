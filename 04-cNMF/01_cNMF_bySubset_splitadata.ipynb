{
 "cells": [
  {
   "cell_type": "code",
   "execution_count": 30,
   "id": "3d84c39c",
   "metadata": {},
   "outputs": [],
   "source": [
    "import scanpy as sc\n",
    "import pandas as pd\n",
    "import numpy as np\n",
    "import mudata as md\n",
    "import seaborn as sns\n",
    "from matplotlib import pyplot as plt\n",
    "from matplotlib.pyplot import rc_context"
   ]
  },
  {
   "cell_type": "code",
   "execution_count": 31,
   "id": "f1d98bb5",
   "metadata": {},
   "outputs": [],
   "source": [
    "import anndata"
   ]
  },
  {
   "cell_type": "code",
   "execution_count": null,
   "id": "422fd16f",
   "metadata": {},
   "outputs": [],
   "source": [
    "# Option 1\n",
    "# After write_H5AD in r, move counts back to X layer\n",
    "#test.X = test.layers['counts'].copy()\n",
    "#del test.layers['X']\n",
    "#test.layers['counts'].todense()\n",
    "\n",
    "# Option 2\n",
    "# adata.layers['test_rawcount'] = adata.layers['test_rawcount'].astype('float64', casting='safe', copy=True)\n",
    "\n",
    "# Testing layers\n",
    "#should say <33394x31879 sparse matrix of type '<class 'numpy.float64'>'with 86969417 stored elements in Compressed Sparse Column format>\n"
   ]
  },
  {
   "cell_type": "code",
   "execution_count": 3,
   "id": "b833371c",
   "metadata": {},
   "outputs": [],
   "source": [
    "# Import\n",
    "adata = md.read(\"/well/legacy/users/pps914/output/005_year1multi/005_year1multi_subclustering/final_annotation/final005_year1multi_finalannotations_withredcap_01122023/final005_year1multi_finalannotations_01122023_rna.h5ad\")"
   ]
  },
  {
   "cell_type": "code",
   "execution_count": null,
   "id": "81f53e2d",
   "metadata": {},
   "outputs": [],
   "source": [
    "adata.layers['raw_counts'] = adata.layers['raw_counts'].astype('float64', casting='safe', copy=True)\n",
    "adata.layers['logged_counts'] = adata.layers['logged_counts'].astype('float64', casting='safe', copy=True)\n",
    "\n",
    "adata.X = adata.layers['raw_counts']"
   ]
  },
  {
   "cell_type": "code",
   "execution_count": null,
   "id": "5407b392",
   "metadata": {},
   "outputs": [],
   "source": [
    "# Resolution for subsetting\n",
    "annotation_csv = \"/well/legacy/users/pps914/output/005_year1multi/005_year1multi_cNMF_bybroadSubset/adata_bySubset/005_year1multi_subsets.csv\"\n",
    "reference_column = \"annotation\"\n",
    "mapping_column = \"large_resolution\"\n",
    "\n",
    "original_adata_obs = \"celltype\"\n",
    "new_adata_obs = \"large_resolution\"\n",
    "\n",
    "\n",
    "annot = pd.read_csv(annotation_csv)[[reference_column,mapping_column]]\n",
    "mapping_dict = pd.Series(annot[mapping_column].values,index=annot[reference_column]).to_dict()\n",
    "\n",
    "adata.obs[new_adata_obs] = adata.obs[original_adata_obs].map(mapping_dict).astype('category')\n"
   ]
  },
  {
   "cell_type": "code",
   "execution_count": 24,
   "id": "f65b338b",
   "metadata": {
    "scrolled": true
   },
   "outputs": [
    {
     "data": {
      "text/plain": [
       "Unknown_1               15508\n",
       "NKp44+_ILC3_1            9567\n",
       "CD16+_NK                 8857\n",
       "NKp44+_ILC3_2            6591\n",
       "CD16-_NK                 4854\n",
       "T                        3705\n",
       "B                        2171\n",
       "ILC1                     1959\n",
       "NKp44-_ILC3              1724\n",
       "Stromal_cells             503\n",
       "DC_1                      428\n",
       "CCL19+_Stromal_cells      380\n",
       "mat_cDC                   324\n",
       "ribo_hi_myeloid           283\n",
       "cDC1                      280\n",
       "Mast_cells                261\n",
       "pDC_4                     195\n",
       "BEC                       191\n",
       "active_DC                 178\n",
       "LEC                       162\n",
       "Mono_Mac                  123\n",
       "act_mat_DC                 99\n",
       "pDC_2                      94\n",
       "cDC2                       66\n",
       "Mac                        50\n",
       "pDC_3                      24\n",
       "ILC_3                       4\n",
       "Name: subset_names, dtype: int64"
      ]
     },
     "execution_count": 24,
     "metadata": {},
     "output_type": "execute_result"
    }
   ],
   "source": [
    "adata.obs['large_resolution'].value_counts()"
   ]
  },
  {
   "cell_type": "code",
   "execution_count": 51,
   "id": "0ebdb1ed",
   "metadata": {},
   "outputs": [],
   "source": [
    "B_cell_adata = adata[adata.obs['large_resolution'] == \"B_cell\"]\n",
    "CD4_T_adata = adata[adata.obs['large_resolution'] == \"CD4_T\"]\n",
    "nonCD4_T_adata = adata[adata.obs['large_resolution'] == \"nonCD4_T\"]\n",
    "Myeloid_adata = adata[adata.obs['large_resolution'] == \"Myeloid\"]"
   ]
  },
  {
   "cell_type": "code",
   "execution_count": 52,
   "id": "54e609a1",
   "metadata": {},
   "outputs": [],
   "source": [
    "B_cell_adata.write(\"adata_bySubset/005_cNMFbylargeres_B_cell.h5ad\")\n",
    "CD4_T_adata.write(\"adata_bySubset/005_cNMFbylargeres_CD4_T.h5ad\")\n",
    "nonCD4_T_adata.write(\"adata_bySubset/005_cNMFbylargeres_nonCD4_T.h5ad\")\n",
    "Myeloid_adata.write(\"adata_bySubset/005_cNMFbylargeres_Myeloid.h5ad\")"
   ]
  },
  {
   "cell_type": "code",
   "execution_count": 53,
   "id": "bfdff954",
   "metadata": {},
   "outputs": [
    {
     "data": {
      "text/plain": [
       "<33394x31879 sparse matrix of type '<class 'numpy.float64'>'\n",
       "\twith 86969417 stored elements in Compressed Sparse Column format>"
      ]
     },
     "execution_count": 53,
     "metadata": {},
     "output_type": "execute_result"
    }
   ],
   "source": [
    "#test = md.read(\"adata_bySubset/005_cNMF_NonImmune.h5ad\")\n",
    "#test.X"
   ]
  }
 ],
 "metadata": {
  "kernelspec": {
   "display_name": "Python 3 (ipykernel)",
   "language": "python",
   "name": "python3"
  },
  "language_info": {
   "codemirror_mode": {
    "name": "ipython",
    "version": 3
   },
   "file_extension": ".py",
   "mimetype": "text/x-python",
   "name": "python",
   "nbconvert_exporter": "python",
   "pygments_lexer": "ipython3",
   "version": "3.9.5"
  }
 },
 "nbformat": 4,
 "nbformat_minor": 5
}
