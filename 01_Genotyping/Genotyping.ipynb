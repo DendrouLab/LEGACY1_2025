{
 "cells": [
  {
   "cell_type": "markdown",
   "id": "6c48e31c-70fa-410f-b4a7-4a6f90009140",
   "metadata": {},
   "source": [
    "# Genotyping LEGACY 1"
   ]
  },
  {
   "cell_type": "markdown",
   "id": "d86617d4-c74f-487a-b183-b98771a9298a",
   "metadata": {},
   "source": [
    "### Some file exploration "
   ]
  },
  {
   "cell_type": "code",
   "execution_count": 1,
   "id": "1dccbc86-8593-4e4f-9060-bde1bc3e6711",
   "metadata": {
    "tags": []
   },
   "outputs": [],
   "source": [
    "import pandas as pd\n",
    "import numpy as np \n",
    "import matplotlib.pyplot as plt"
   ]
  },
  {
   "cell_type": "code",
   "execution_count": null,
   "id": "2fc7eb06-1edb-444b-97dc-30e04f2dcd17",
   "metadata": {
    "tags": []
   },
   "outputs": [],
   "source": [
    "h38 = pd.read_csv(r\"LEGACY\\Genotyping\\Illumina annotation\\GSA-24v3-0_A2_hg38_annotated.txt\", delimiter='\\t') \n",
    "h19 = pd.read_csv(r\"\\LEGACY\\Genotyping\\Illumina annotation\\GSA-24v3-0_A1_hg19_annotated.txt\", delimiter='\\t') "
   ]
  },
  {
   "cell_type": "code",
   "execution_count": 8,
   "id": "750be46b-1725-440c-adb4-aeab1a5c827a",
   "metadata": {
    "tags": []
   },
   "outputs": [],
   "source": [
    "jason_bim = pd.read_csv(r\"merged.public.autosomes.bim\", \n",
    "                        delimiter='\\t', \n",
    "                        names=[\"Chromosome\", \"SNP_ID\", \"Genetic_Distance\", \"BPP\", \"Allele1\", \"Allele2\"])"
   ]
  },
  {
   "cell_type": "code",
   "execution_count": 10,
   "id": "a35de2f6-1ea2-4020-8081-b3a91425efb3",
   "metadata": {
    "tags": []
   },
   "outputs": [
    {
     "data": {
      "text/plain": [
       "4115424"
      ]
     },
     "execution_count": 10,
     "metadata": {},
     "output_type": "execute_result"
    }
   ],
   "source": [
    "len(jason_bim['BPP'].unique()) \n",
    "#base pair positions are not unique. counting starts anew for every chromosome"
   ]
  },
  {
   "cell_type": "code",
   "execution_count": 97,
   "id": "8e542c9e-7d35-4c35-8e75-793f5f9441ee",
   "metadata": {
    "tags": []
   },
   "outputs": [
    {
     "data": {
      "text/plain": [
       "4160853"
      ]
     },
     "execution_count": 97,
     "metadata": {},
     "output_type": "execute_result"
    }
   ],
   "source": [
    "len(jason_bim['SNP_ID'].unique()) \n",
    "#SNP_IDs are unique "
   ]
  },
  {
   "cell_type": "code",
   "execution_count": 11,
   "id": "63c45c58-b7c6-4b40-a92c-b85540081721",
   "metadata": {
    "tags": []
   },
   "outputs": [
    {
     "data": {
      "text/plain": [
       "array([ 1,  2,  3,  4,  5,  6,  7,  8,  9, 10, 11, 12, 13, 14, 15, 16, 17,\n",
       "       18, 19, 20, 21, 22], dtype=int64)"
      ]
     },
     "execution_count": 11,
     "metadata": {},
     "output_type": "execute_result"
    }
   ],
   "source": [
    "jason_bim['Chromosome'].unique()\n",
    "#jasons file doesnt have X or Y chromosome data"
   ]
  },
  {
   "cell_type": "code",
   "execution_count": null,
   "id": "0830d678-9dd4-41ca-b118-a5cbe135e9f0",
   "metadata": {
    "tags": []
   },
   "outputs": [],
   "source": [
    "#our data before QC\n",
    "our_PLINK_map = pd.read_csv(r\"LEGACY\\Genotyping\\Genotyping_GC-JS-10487\\Analysis\\GC-JS-10487_ST\\PLINK_120923_0520\\GC-JS-10487_ST.map\", \n",
    "                            delimiter='\\t', \n",
    "                            names=[\"Chromosome\", \"SNP_ID\", \"Genetic_Distance?\", \"BPP\"])"
   ]
  },
  {
   "cell_type": "code",
   "execution_count": 14,
   "id": "38d879a7-6c30-4906-a1d5-f74a6fa724c0",
   "metadata": {
    "tags": []
   },
   "outputs": [
    {
     "data": {
      "text/plain": [
       "array(['1', '0', '10', '11', '12', '13', '14', '15', '16', '17', '18',\n",
       "       '19', '6', '2', '20', 'MT', 'Y', '21', '22', '5', '7', '4', '3',\n",
       "       '8', '9', 'X', 'XY', 11, 9, 10, 8, 12, 17, 5, 1, 15, 16, 18, 6, 13,\n",
       "       22, 3, 19, 20, 21, 2, 14, 4, 7, 0], dtype=object)"
      ]
     },
     "execution_count": 14,
     "metadata": {},
     "output_type": "execute_result"
    }
   ],
   "source": [
    "our_PLINK_map['Chromosome'].unique() \n",
    "#we have a wider variety of chromosome data\n",
    "#!watch out that the data type is mixed -> should we adjust for that? "
   ]
  },
  {
   "cell_type": "code",
   "execution_count": 25,
   "id": "e94f5a0f-c83d-458a-ae07-dd0280d4867d",
   "metadata": {
    "tags": []
   },
   "outputs": [
    {
     "data": {
      "text/plain": [
       "array(['1', '0', '10', '11', '12', '13', '14', '15', '16', '17', '18',\n",
       "       '19', '6', '2', '20', 'MT', 'Y', '21', '22', '5', '7', '4', '3',\n",
       "       '8', '9', 'X', 'XY', 11, 9, 10, 8, 12, 17, 5, 1, 15, 16, 18, 6, 13,\n",
       "       22, 3, 19, 20, 21, 2, 14, 4, 7, 0], dtype=object)"
      ]
     },
     "execution_count": 25,
     "metadata": {},
     "output_type": "execute_result"
    }
   ],
   "source": [
    "our_PLINK_map['Chromosome'].unique() \n",
    "#!data type is mixed -> should we adjust for that? "
   ]
  },
  {
   "cell_type": "code",
   "execution_count": 15,
   "id": "b05828b2-5dcf-4978-848d-c95453d7090e",
   "metadata": {
    "tags": []
   },
   "outputs": [
    {
     "name": "stdout",
     "output_type": "stream",
     "text": [
      "h38 annotation length: 654027\n",
      "our SNP length: 730059\n",
      "how many h38 annotation file names are found in our SNP IDs: 641966\n",
      "how many SNP IDs from our map file are not in the h38 annotation file: 88093\n"
     ]
    }
   ],
   "source": [
    "print('h38 annotation length: '+ f'{len(h38.Name)}')\n",
    "print('our SNP length: '+ f'{len(our_PLINK_map.SNP_ID)}')\n",
    "print('how many h38 annotation file names are found in our SNP IDs: '+ f'{len(h38[h38.Name.isin(our_PLINK_map.SNP_ID)])}') \n",
    "print('how many SNP IDs from our map file are not in the h38 annotation file: '+ f'{len(our_PLINK_map[~our_PLINK_map.SNP_ID.isin(h38.Name)])}')"
   ]
  },
  {
   "cell_type": "code",
   "execution_count": 16,
   "id": "0df11c69-c4dd-49cc-a410-663777b1ff82",
   "metadata": {
    "tags": []
   },
   "outputs": [
    {
     "name": "stdout",
     "output_type": "stream",
     "text": [
      "h19 annotation length: 654027\n",
      "our SNP length: 730059\n",
      "how many h19 annotation file names are found in our SNP IDs: 641966\n",
      "how many SNP IDs from our map file are not in the h19 annotation file: 88093\n"
     ]
    }
   ],
   "source": [
    "print('h19 annotation length: '+ f'{len(h19.Name)}')\n",
    "print('our SNP length: '+ f'{len(our_PLINK_map.SNP_ID)}')\n",
    "print('how many h19 annotation file names are found in our SNP IDs: '+ f'{len(h19[h19.Name.isin(our_PLINK_map.SNP_ID)])}') \n",
    "print('how many SNP IDs from our map file are not in the h19 annotation file: '+ f'{len(our_PLINK_map[~our_PLINK_map.SNP_ID.isin(h19.Name)])}')"
   ]
  },
  {
   "cell_type": "code",
   "execution_count": 17,
   "id": "e386d798-57bc-4903-a3af-d553bf5fce51",
   "metadata": {
    "tags": []
   },
   "outputs": [
    {
     "data": {
      "text/plain": [
       "730059"
      ]
     },
     "execution_count": 17,
     "metadata": {},
     "output_type": "execute_result"
    }
   ],
   "source": [
    "len(our_PLINK_map.SNP_ID.unique()) \n",
    "#making sure all SNP IDs of our file are unique"
   ]
  },
  {
   "cell_type": "code",
   "execution_count": null,
   "id": "8c7804a3-fb85-4a7d-8df3-00390c281524",
   "metadata": {},
   "outputs": [],
   "source": [
    "h38[h38.Name.str.contains('CNV')] \n",
    "#the h38 annotation file also contains CNVs"
   ]
  },
  {
   "cell_type": "code",
   "execution_count": 99,
   "id": "13d5fced-cf46-4aae-a380-e2aecb29eebf",
   "metadata": {
    "tags": []
   },
   "outputs": [
    {
     "name": "stdout",
     "output_type": "stream",
     "text": [
      "h38 annotation:\n",
      "        Name Chr  MapInfo Alleles Transcript(s) Gene(s) In-exon Mutation(s)\n",
      "0  rs9651229   1   632287   [T/C]           NaN     NaN     NaN         NaN\n",
      "\n",
      "our map file:\n",
      "       Chromosome     SNP_ID  Genetic_Distance?     BPP\n",
      "344515          1  rs9651229                0.0  632287\n"
     ]
    }
   ],
   "source": [
    "print('h38 annotation:')\n",
    "print(h38[h38['Name'] == 'rs9651229']) \n",
    "print('')\n",
    "print('our map file:')\n",
    "print(our_PLINK_map[our_PLINK_map['SNP_ID'] == 'rs9651229']) \n",
    "\n",
    "#check with random example if the combination of ID and MapInfo/BPP of the h38 annotation file and our data is the same "
   ]
  },
  {
   "cell_type": "code",
   "execution_count": null,
   "id": "c7b33db2-9c06-4bb0-8e8d-125c6b72a96a",
   "metadata": {
    "tags": []
   },
   "outputs": [],
   "source": [
    "#having a look at the 1000 genomes vcf file \n",
    "#note that in the ID column there is just a dot \n",
    "pd.read_csv(r\"ALL_chr21_phase3_shapeit2_mvncall_integrated_v5b_20130502_genotypes.vcf\", sep=\"\\t\", comment='#', nrows=20) \n",
    "#alternatively to load the last n rows: df = pd.read_csv(..., skiprows=total_rows - n, nrows=n)"
   ]
  },
  {
   "cell_type": "code",
   "execution_count": 26,
   "id": "cbac68ed-1ac9-4739-b5a1-4872b2ff94bb",
   "metadata": {},
   "outputs": [],
   "source": [
    "#our data after qc \n",
    "our_bim_qc = pd.read_csv(r\"LEGACY\\Genotyping\\DataPreparation\\LEG1_sortvars_QC.bim\", \n",
    "                         delimiter='\\t', \n",
    "                         names=[\"Chromosome\", \"SNP_ID\", \"Genetic_Distance\", \"BPP\", \"Allele1\", \"Allele2\"])"
   ]
  },
  {
   "cell_type": "code",
   "execution_count": 28,
   "id": "b3542188-5925-49c8-a348-cf6d4c4a3e85",
   "metadata": {
    "tags": []
   },
   "outputs": [
    {
     "data": {
      "text/plain": [
       "array([ 1,  2,  3,  4,  5,  6,  7,  8,  9, 10, 11, 12, 13, 14, 15, 16, 17,\n",
       "       18, 19, 20, 21, 22], dtype=int64)"
      ]
     },
     "execution_count": 28,
     "metadata": {},
     "output_type": "execute_result"
    }
   ],
   "source": [
    "our_bim_qc.Chromosome.unique()"
   ]
  },
  {
   "cell_type": "code",
   "execution_count": 40,
   "id": "a6354571-0ad7-4b28-ae10-e3bde8cd9ba1",
   "metadata": {
    "tags": []
   },
   "outputs": [
    {
     "name": "stdout",
     "output_type": "stream",
     "text": [
      "how many SNP IDs from our map file are not in the h38 annotation file: 9278\n"
     ]
    }
   ],
   "source": [
    "print('how many SNP IDs from our map file are not in the h38 annotation file: '+ f'{len(our_bim_qc[~our_bim_qc.SNP_ID.isin(h38.Name)])}')"
   ]
  },
  {
   "cell_type": "code",
   "execution_count": 62,
   "id": "ca1354fe-1a63-4a16-a282-1fedc737328e",
   "metadata": {
    "tags": []
   },
   "outputs": [],
   "source": [
    "pd.set_option(\"display.max_rows\", None)"
   ]
  },
  {
   "cell_type": "code",
   "execution_count": 64,
   "id": "2009827f-bcf5-41eb-aaa3-133374a3a59a",
   "metadata": {
    "tags": []
   },
   "outputs": [],
   "source": [
    "pd.reset_option('^display.', silent=True)"
   ]
  },
  {
   "cell_type": "code",
   "execution_count": null,
   "id": "3fec390c-2850-4861-90e0-88ad89d20e7e",
   "metadata": {
    "tags": []
   },
   "outputs": [],
   "source": [
    "ourSNPnotinh38 = our_bim_qc[~our_bim_qc.SNP_ID.isin(h38.Name)]\n",
    "ourSNPnotinh38"
   ]
  },
  {
   "cell_type": "code",
   "execution_count": 51,
   "id": "d69db2a9-df58-4224-9e7d-a90f64e15054",
   "metadata": {
    "tags": []
   },
   "outputs": [],
   "source": [
    "ourSNPnotinh38_ID = ourSNPnotinh38[[\"Chromosome\",\"BPP\"]].astype('str').agg(\":\".join, axis=1).to_list()"
   ]
  },
  {
   "cell_type": "code",
   "execution_count": 52,
   "id": "0585ad86-1913-4137-b551-fb565f8238f2",
   "metadata": {
    "tags": []
   },
   "outputs": [],
   "source": [
    "jason_ID = jason_bim[\"SNP_ID\"].to_list()"
   ]
  },
  {
   "cell_type": "code",
   "execution_count": 55,
   "id": "97b058e0-8feb-46c7-bf15-f4b57906db1a",
   "metadata": {
    "tags": []
   },
   "outputs": [],
   "source": [
    "h38new_ID = h38[[\"Chr\",\"MapInfo\"]].astype('str').agg(\":\".join, axis=1).to_list()"
   ]
  },
  {
   "cell_type": "code",
   "execution_count": 75,
   "id": "00a9dc66-e375-44cc-be7e-80ecde6f6c1d",
   "metadata": {
    "tags": []
   },
   "outputs": [],
   "source": [
    "ourSNPinh38 = our_bim_qc[our_bim_qc.SNP_ID.isin(h38.Name)] \n",
    "ourSNPinh38_ID = ourSNPinh38[[\"Chromosome\",\"BPP\"]].astype('str').agg(\":\".join, axis=1).to_list()"
   ]
  },
  {
   "cell_type": "code",
   "execution_count": 56,
   "id": "b157d525-3563-46c9-808c-1a7dfc25eaaf",
   "metadata": {
    "tags": []
   },
   "outputs": [],
   "source": [
    "ourSNPall_ID = our_bim_qc[[\"Chromosome\",\"BPP\"]].astype('str').agg(\":\".join, axis=1).to_list()"
   ]
  },
  {
   "cell_type": "code",
   "execution_count": 86,
   "id": "deb1f1ac-70cc-4bb9-bdef-032a1eb3a808",
   "metadata": {
    "tags": []
   },
   "outputs": [
    {
     "data": {
      "text/plain": [
       "623"
      ]
     },
     "execution_count": 86,
     "metadata": {},
     "output_type": "execute_result"
    }
   ],
   "source": [
    "u, c = np.unique(ourSNPall_ID, return_counts=True)\n",
    "dup = u[c > 1] \n",
    "len(dup)"
   ]
  },
  {
   "cell_type": "code",
   "execution_count": 87,
   "id": "747d939a-3385-441d-92eb-8c5d7b3cc0db",
   "metadata": {
    "tags": []
   },
   "outputs": [
    {
     "data": {
      "text/plain": [
       "4365"
      ]
     },
     "execution_count": 87,
     "metadata": {},
     "output_type": "execute_result"
    }
   ],
   "source": [
    "u, c = np.unique(h38new_ID, return_counts=True)\n",
    "dup = u[c > 1] \n",
    "len(dup)"
   ]
  },
  {
   "cell_type": "code",
   "execution_count": 57,
   "id": "ce06cb23-7326-4a5e-b120-7a79a6ba2653",
   "metadata": {
    "tags": []
   },
   "outputs": [
    {
     "data": {
      "text/plain": [
       "4503"
      ]
     },
     "execution_count": 57,
     "metadata": {},
     "output_type": "execute_result"
    }
   ],
   "source": [
    "#check if chr:bpp of our bim not in h38 is still found in jasons id file \n",
    "SNPIDnotinh38andnotinjason = len(np.setdiff1d(ourSNPnotinh38_ID,jason_ID))\n",
    "#yields the elements in `ourSNPnotinh38_ID` that are NOT in `jason_ID`\n",
    "SNPIDnotinh38andnotinjason\n",
    "#--> 4775 of these SNPs are in Jasons ID and will be kept"
   ]
  },
  {
   "cell_type": "code",
   "execution_count": 74,
   "id": "97248cc8-ba8f-402e-85ad-98ea14bee6cc",
   "metadata": {
    "tags": []
   },
   "outputs": [
    {
     "data": {
      "text/plain": [
       "8234"
      ]
     },
     "execution_count": 74,
     "metadata": {},
     "output_type": "execute_result"
    }
   ],
   "source": [
    "newIDnotcomboofh38 = np.setdiff1d(ourSNPall_ID,h38new_ID)\n",
    "len(newIDnotcomboofh38) \n",
    "#all the chr:bpp of our file that are no combo of h38 file "
   ]
  },
  {
   "cell_type": "code",
   "execution_count": 69,
   "id": "0b19d05b-ddec-4faf-9795-9ad2c95c0ebe",
   "metadata": {
    "tags": []
   },
   "outputs": [],
   "source": [
    "import sys\n",
    "np.set_printoptions(threshold=sys.maxsize)"
   ]
  },
  {
   "cell_type": "code",
   "execution_count": 71,
   "id": "7fc1a0e2-51a1-4879-89f6-f5828cdffa36",
   "metadata": {
    "tags": []
   },
   "outputs": [],
   "source": [
    "np.set_printoptions(threshold = False)"
   ]
  },
  {
   "cell_type": "code",
   "execution_count": 91,
   "id": "d8448771-347f-4c5d-b1ac-c9c828bdfa56",
   "metadata": {
    "tags": []
   },
   "outputs": [
    {
     "data": {
      "text/plain": [
       "0"
      ]
     },
     "execution_count": 91,
     "metadata": {},
     "output_type": "execute_result"
    }
   ],
   "source": [
    "newIDinh38butnotcomboofh38 = np.setdiff1d(ourSNPinh38_ID,h38new_ID)\n",
    "len(newIDinh38butnotcomboofh38) \n",
    "#all the chr:bpp of our file not matching with chr:bpp of h38 even though the initial ID is found "
   ]
  },
  {
   "cell_type": "code",
   "execution_count": 90,
   "id": "a0793bd7-4590-4281-aa3d-88b59a6ec803",
   "metadata": {
    "tags": []
   },
   "outputs": [
    {
     "data": {
      "text/plain": [
       "186825"
      ]
     },
     "execution_count": 90,
     "metadata": {},
     "output_type": "execute_result"
    }
   ],
   "source": [
    "intersectionouridjason = np.setdiff1d(ourSNPall_ID,jason_ID)\n",
    "len(ourSNPall_ID) - len(intersectionouridjason) \n",
    "#intersecting chr:bpp SNP IDs of our and Jasons dataset"
   ]
  },
  {
   "cell_type": "code",
   "execution_count": 145,
   "id": "f4a8a4d8-7425-47f7-8a23-14144279de3c",
   "metadata": {
    "tags": []
   },
   "outputs": [
    {
     "data": {
      "text/plain": [
       "326784"
      ]
     },
     "execution_count": 145,
     "metadata": {},
     "output_type": "execute_result"
    }
   ],
   "source": [
    "intersectionouridh38 = np.isin(ourSNPall_ID,h38new_ID)\n",
    "len(intersectionouridh38)\n",
    "#len(ourSNPall_ID) - len(intersectionouridh38) \n",
    "#intersecting chr:bpp SNP IDs of our and h38 dataset"
   ]
  },
  {
   "cell_type": "code",
   "execution_count": 149,
   "id": "1b64ce95-cec8-40b9-a24f-b40f22af0451",
   "metadata": {
    "tags": []
   },
   "outputs": [],
   "source": [
    "ourSNPall_ID_unique = SNP_keep.SNP_ID.to_list()"
   ]
  },
  {
   "cell_type": "code",
   "execution_count": 159,
   "id": "ca634b02-8f16-4161-9188-a83795b39976",
   "metadata": {
    "tags": []
   },
   "outputs": [],
   "source": [
    "count_dict = Counter(h38new_ID)\n",
    "h38new_ID_unique = [item for item, count in count_dict.items() if count == 1]"
   ]
  },
  {
   "cell_type": "code",
   "execution_count": 164,
   "id": "40e9db4f-c283-41e0-b047-be391a1640c9",
   "metadata": {
    "tags": []
   },
   "outputs": [
    {
     "data": {
      "text/plain": [
       "325392"
      ]
     },
     "execution_count": 164,
     "metadata": {},
     "output_type": "execute_result"
    }
   ],
   "source": [
    "intersectionouridjason_unique = np.isin(ourSNPall_ID_unique,jason_ID)\n",
    "len(intersectionouridjason_unique)"
   ]
  },
  {
   "cell_type": "code",
   "execution_count": 166,
   "id": "d3821025-da31-4269-96a5-467900c3d8e6",
   "metadata": {
    "tags": []
   },
   "outputs": [
    {
     "data": {
      "text/plain": [
       "139664"
      ]
     },
     "execution_count": 166,
     "metadata": {},
     "output_type": "execute_result"
    }
   ],
   "source": [
    "setdifouridjason_unique = np.setdiff1d(ourSNPall_ID_unique,jason_ID)\n",
    "len(setdifouridjason_unique)"
   ]
  },
  {
   "cell_type": "code",
   "execution_count": 169,
   "id": "8707d6a0-e74e-459b-9790-fb333c1c4d66",
   "metadata": {
    "tags": []
   },
   "outputs": [],
   "source": [
    "ournotinh38_unique = np.setdiff1d(ourSNPall_ID_unique, h38new_ID_unique)\n",
    "ourin38_unique = np.setdiff1d(ourSNPall_ID_unique, ournotinh38_unique)"
   ]
  },
  {
   "cell_type": "markdown",
   "id": "1a8e8dc2-5776-4438-b644-3e72b6368444",
   "metadata": {},
   "source": [
    "### make new ID (Chr:BPP) reference file"
   ]
  },
  {
   "cell_type": "code",
   "execution_count": 246,
   "id": "1fff6e11-3706-4253-9023-61ccb36f9f9f",
   "metadata": {
    "tags": []
   },
   "outputs": [],
   "source": [
    "#our data after qc \n",
    "our_bim_qc = pd.read_csv(r\"\\LEGACY\\Genotyping\\DataPreparation\\LEG1_sortvars_QC.bim\", \n",
    "                         delimiter='\\t', \n",
    "                         names=[\"Chromosome\", \"old_SNP_ID\", \"Genetic_Distance\", \"BPP\", \"Allele1\", \"Allele2\"])"
   ]
  },
  {
   "cell_type": "code",
   "execution_count": 247,
   "id": "0ce8cbc5-c11f-4af2-9f1c-d39dbceec011",
   "metadata": {
    "tags": []
   },
   "outputs": [],
   "source": [
    "newID = our_bim_qc.copy()\n",
    "newID['new_SNP_ID'] = newID[[\"Chromosome\",\"BPP\"]].astype('str').agg(\":\".join, axis=1)"
   ]
  },
  {
   "cell_type": "code",
   "execution_count": 248,
   "id": "94b68e5d-9f91-478e-a76c-f968195db639",
   "metadata": {
    "tags": []
   },
   "outputs": [],
   "source": [
    "newID = newID.drop([\"Chromosome\",\"BPP\",'Genetic_Distance', 'Allele1','Allele2'], axis=1)"
   ]
  },
  {
   "cell_type": "code",
   "execution_count": 250,
   "id": "147c020b-4ec4-47b5-afbe-cc49c92bc1b6",
   "metadata": {
    "tags": []
   },
   "outputs": [],
   "source": [
    "newID.to_csv(r'\\LEGACY\\Genotyping\\DataPreparation\\newID.bim', header=False, sep='\\t', index=False)"
   ]
  },
  {
   "cell_type": "markdown",
   "id": "5efcafee-6e2e-4d3e-8018-8e0dd532b94b",
   "metadata": {},
   "source": [
    "### Create file with SNP IDs of the ones to be kept for analysis"
   ]
  },
  {
   "cell_type": "code",
   "execution_count": 220,
   "id": "3d61a32f-2b9e-4ebc-a49e-0c5b5a6194e0",
   "metadata": {
    "tags": []
   },
   "outputs": [],
   "source": [
    "#change SNP ID to chr:bpp combination \n",
    "SNP_keep = our_bim_qc.copy() \n",
    "SNP_keep.SNP_ID = SNP_keep[[\"Chromosome\",\"BPP\"]].astype('str').agg(\":\".join, axis=1)"
   ]
  },
  {
   "cell_type": "code",
   "execution_count": 222,
   "id": "8bf3aeba-eda5-47d8-a38a-70ee54314dd8",
   "metadata": {
    "tags": []
   },
   "outputs": [],
   "source": [
    "h38['SNP_ID'] = h38[[\"Chr\",\"MapInfo\"]].astype('str').agg(\":\".join, axis=1)"
   ]
  },
  {
   "cell_type": "code",
   "execution_count": 223,
   "id": "91ff938d-b4c5-4a9e-8105-c3117aeef36a",
   "metadata": {
    "tags": []
   },
   "outputs": [],
   "source": [
    "#get rid of all duplicate values \n",
    "SNP_keep.drop_duplicates(subset='SNP_ID', keep=False, inplace=True)\n",
    "h38.drop_duplicates(subset='SNP_ID', keep=False, inplace=True)"
   ]
  },
  {
   "cell_type": "code",
   "execution_count": 227,
   "id": "5664056c-643d-42ea-9901-82d6141c5a28",
   "metadata": {
    "tags": []
   },
   "outputs": [],
   "source": [
    "SNP_keep = SNP_keep[(SNP_keep.SNP_ID.isin(h38.SNP_ID) & SNP_keep.SNP_ID.isin(jason_bim.SNP_ID)) #intersection of our data, h38, and Jasons data \n",
    "                    | ((~SNP_keep.SNP_ID.isin(h38.SNP_ID)) & SNP_keep.SNP_ID.isin(jason_bim.SNP_ID))] #intersection of our data not found in h38, but intersecting with Jasons data"
   ]
  },
  {
   "cell_type": "code",
   "execution_count": 254,
   "id": "634ffddd-6601-4182-aca6-ada083b4d822",
   "metadata": {
    "tags": []
   },
   "outputs": [],
   "source": [
    "SNP_keep = SNP_keep.drop([\"Chromosome\",\"BPP\",'Genetic_Distance', 'Allele1','Allele2'], axis=1)"
   ]
  },
  {
   "cell_type": "code",
   "execution_count": 260,
   "id": "11bd8069-8a3f-4e2c-ad8d-1b0bd5a3ff8d",
   "metadata": {
    "tags": []
   },
   "outputs": [],
   "source": [
    "SNP_keep.to_csv(r'\\LEGACY\\Genotyping\\DataPreparation\\snp_list_intersection.csv', header=False, index=False)"
   ]
  },
  {
   "cell_type": "markdown",
   "id": "26500e14-daca-4545-89d8-45a8b76adee9",
   "metadata": {},
   "source": [
    "### Adjusting and merging the datasets"
   ]
  },
  {
   "cell_type": "markdown",
   "id": "6f158afa-d1fa-40ba-87d7-8c2e7a31ef8c",
   "metadata": {},
   "source": [
    "Notes: \n",
    "- run each line of code of this section seperately in Linux command line and adjust file names or directories. Check for possible errors. \n",
    "- the way this is written only works if you have all input files as well as plink2 and plink1.9 in the same folder and run the commands in that folder. "
   ]
  },
  {
   "cell_type": "markdown",
   "id": "32a15a1b-0717-47eb-82be-b86101504655",
   "metadata": {},
   "source": [
    "See this pdf for more explanation and options: https://cran.r-project.org/web/packages/plinkQC/vignettes/AncestryCheck.pdf"
   ]
  },
  {
   "cell_type": "code",
   "execution_count": null,
   "id": "e6adc295-6a6f-42a3-acb3-72fcf873e36a",
   "metadata": {},
   "outputs": [],
   "source": [
    "#Filter reference and study data for non A-T or G-C SNPs\n",
    "awk 'BEGIN {OFS=\"\\t\"} ($5$6 == \"GC\" || $5$6 == \"CG\" || $5$6 == \"AT\" || $5$6 == \"TA\") {print $2}' ./LEG1_sortvars_QC_updatedID_subset.bim > ./LEG1_sortvars_QC_updatedID_subset_ac_gt_snps\n",
    "awk 'BEGIN {OFS=\"\\t\"} ($5$6 == \"GC\" || $5$6 == \"CG\" || $5$6 == \"AT\" || $5$6 == \"TA\") {print $2}' ./merged_public_autosomes.bim > ./merged_public_autosomes_ac_gt_snps\n",
    "\n",
    "./plink2 --bfile LEG1_sortvars_QC_updatedID_subset --exclude LEG1_sortvars_QC_updatedID_subset_ac_gt_snps --make-bed --out LEG1_sortvars_QC_updatedID_subset_no_ac_gt_snps \n",
    "./plink2 --bfile merged_public_autosomes --exclude merged_public_autosomes_ac_gt_snps --make-bed --out merged_public_autosomes_no_ac_gt_snps"
   ]
  },
  {
   "cell_type": "code",
   "execution_count": null,
   "id": "a2ee1882-1d31-4c5b-990e-9c9a10469b40",
   "metadata": {},
   "outputs": [],
   "source": [
    "#Filter reference data for the same SNP set as in study \n",
    "./plink2 --bfile merged_public_autosomes --extract LEG1_sortvars_QC_updatedID_subset_no_ac_gt_snps.bim --make-bed --out merged_public_autosomes_no_ac_gt_snps_pruned \n",
    "./plink2 --bfile LEG1_sortvars_QC_updatedID_subset --extract merged_public_autosomes_no_ac_gt_snps.bim --make-bed --out LEG1_sortvars_QC_updatedID_subset_no_ac_gt_snps_pruned "
   ]
  },
  {
   "cell_type": "code",
   "execution_count": null,
   "id": "1504e124-54d5-42b5-9b8e-e5d64e62539b",
   "metadata": {},
   "outputs": [],
   "source": [
    "#Position mismatch \n",
    "awk 'BEGIN {OFS=\"\\t\"} FNR==NR {a[$2]=$4; next} ($2 in a && a[$2] != $4) {print a[$2],$2}' LEG1_sortvars_QC_updatedID_subset_no_ac_gt_snps_pruned.bim merged_public_autosomes_no_ac_gt_snps_pruned.bim > merged_public_autosomes_no_ac_gt_snps_pruned_toUpdatePos"
   ]
  },
  {
   "cell_type": "code",
   "execution_count": null,
   "id": "82ce4e33-8ab4-453c-b1d5-6c603120fb34",
   "metadata": {},
   "outputs": [],
   "source": [
    "#Possible allele flips \n",
    "awk 'BEGIN {OFS=\"\\t\"} FNR==NR {a[$1$2$4]=$5$6; next} ($1$2$4 in a && a[$1$2$4] != $5$6 && a[$1$2$4] != $6$5) {print $2}' LEG1_sortvars_QC_updatedID_subset_no_ac_gt_snps_pruned.bim merged_public_autosomes_no_ac_gt_snps_pruned.bim > merged_public_autosomes_no_ac_gt_snps_pruned_toFlip"
   ]
  },
  {
   "cell_type": "code",
   "execution_count": null,
   "id": "8d5b908b-93ba-405b-82cd-9fad76d3ca5e",
   "metadata": {},
   "outputs": [],
   "source": [
    "#Update positions and flip alleles\n",
    "#!Note!: --flip is not yet incorporated in plink2 as of Dec2023. Hence why, this command will be done using plink1.9. There might be workarounds in plink2 like using --update-alleles. \n",
    "#--update-map merged_public_autosomes_no_ac_gt_snps_pruned_toUpdatePos 1 2 \\ # Will not run this arg because file is empty since there are no position mismatches \n",
    "./plink --bfile merged_public_autosomes_no_ac_gt_snps_pruned --flip merged_public_autosomes_no_ac_gt_snps_pruned_toFlip --make-bed --out merged_public_autosomes_no_ac_gt_snps_pruned_flipped"
   ]
  },
  {
   "cell_type": "code",
   "execution_count": null,
   "id": "d86d79d8-4f57-4bbd-85c2-648f9a263404",
   "metadata": {},
   "outputs": [],
   "source": [
    "#Remove mismatches \n",
    "#Note: Jasons script incorporates another additional cleaning step which gets rid of duplicate snp ids. this is not necessary for our data since we checked and did that already before! \n",
    "awk 'BEGIN {OFS=\"\\t\"} FNR==NR {a[$1$2$4]=$5$6; next} ($1$2$4 in a && a[$1$2$4] != $5$6 && a[$1$2$4] != $6$5) {print $2}' LEG1_sortvars_QC_updatedID_subset_no_ac_gt_snps_pruned.bim merged_public_autosomes_no_ac_gt_snps_pruned_flipped.bim > merged_public_autosomes_no_ac_gt_snps_pruned_flipped_mismatch\n",
    "./plink2 --bfile merged_public_autosomes_no_ac_gt_snps_pruned_flipped --exclude merged_public_autosomes_no_ac_gt_snps_pruned_flipped_mismatch --make-bed --out merged_public_autosomes_no_ac_gt_snps_pruned_flipped_clean"
   ]
  },
  {
   "cell_type": "code",
   "execution_count": null,
   "id": "6c0f6278-1731-4b32-ba5e-d745110335c7",
   "metadata": {},
   "outputs": [],
   "source": [
    "#Merge study genotypes and reference data \n",
    "#Note!: as of Dec2023 --bmerge command is also not yet implemented in plink2. Hence why, plink1.9 is used for this operation. \n",
    "./plink --bfile LEG1_sortvars_QC_updatedID_subset_no_ac_gt_snps_pruned --bmerge merged_public_autosomes_no_ac_gt_snps_pruned_flipped_clean.bed merged_public_autosomes_no_ac_gt_snps_pruned_flipped_clean.bim merged_public_autosomes_no_ac_gt_snps_pruned_flipped_clean.fam --make-bed --out LEG1_JasonsRef_merged"
   ]
  },
  {
   "cell_type": "markdown",
   "id": "3569b129-f95e-463a-9c1e-4491446a682d",
   "metadata": {},
   "source": [
    "### Running PCA and ADMIXTURE"
   ]
  },
  {
   "cell_type": "code",
   "execution_count": null,
   "id": "ad5cb3b0-e44d-4cee-8c07-0247c7c3e558",
   "metadata": {},
   "outputs": [],
   "source": [
    "#this command creates two files: \n",
    "    #.eigenvec file contains the requested number (10) of principal components (PCs) \n",
    "    #.eigenval file contains the corresponding eigenvalues, one per line. \n",
    "./plink2 --bfile LEG1_JasonsRef_merged --pca --out LEG1_JasonsRef_merged_pca"
   ]
  },
  {
   "cell_type": "code",
   "execution_count": null,
   "id": "2431d08b-77e2-4975-84dd-47d76394b61f",
   "metadata": {},
   "outputs": [],
   "source": [
    "#run admixture for different K values to evaluate the one with the lowest cv error \n",
    "#first go for a rough range and then finetune afterwards \n",
    "for K in 5 10 20 30 40 50; do admixture --cv LEG1_JasonsRef_merged.bed $K -j12 | tee log${K}.out; done\n",
    "grep -h CV log*.out #you can also plot these error values with x=K and y=cross validation error "
   ]
  },
  {
   "cell_type": "markdown",
   "id": "4347a2cf-e691-4f13-95b6-99b8ec08aacb",
   "metadata": {},
   "source": [
    "### Generate Population file of merged dataset"
   ]
  },
  {
   "cell_type": "markdown",
   "id": "662d230c-94f7-46ba-8e9d-f93bc1f0aca9",
   "metadata": {},
   "source": [
    "This is needed for plotting"
   ]
  },
  {
   "cell_type": "code",
   "execution_count": 172,
   "id": "a32c1ef8-45e8-406d-9924-7e4a6b7c3003",
   "metadata": {
    "tags": []
   },
   "outputs": [],
   "source": [
    "genomes1000 = pd.read_csv(r\"\\LEGACY\\Genotyping\\DataPreparation\\populationfile\\all_populations_panel\", delimiter='\\t')"
   ]
  },
  {
   "cell_type": "code",
   "execution_count": 174,
   "id": "9c28736a-1c78-46e1-8de2-dd2b5d948a82",
   "metadata": {
    "tags": []
   },
   "outputs": [],
   "source": [
    "genomes1000.drop(columns=['Unnamed: 4', 'Unnamed: 5'], axis=1, inplace=True)"
   ]
  },
  {
   "cell_type": "code",
   "execution_count": 222,
   "id": "2bebb2b2-0496-4fd8-9744-e00b2f4b1fe9",
   "metadata": {
    "tags": []
   },
   "outputs": [
    {
     "data": {
      "text/plain": [
       "array(['EUR', 'EAS', 'AMR', 'SAS', 'AFR'], dtype=object)"
      ]
     },
     "execution_count": 222,
     "metadata": {},
     "output_type": "execute_result"
    }
   ],
   "source": [
    "genomes1000['super_pop'].unique()"
   ]
  },
  {
   "cell_type": "code",
   "execution_count": 176,
   "id": "abeb38c2-5e17-482a-be83-5f14baf97260",
   "metadata": {
    "tags": []
   },
   "outputs": [
    {
     "data": {
      "text/plain": [
       "array(['GBR', 'FIN', 'CHS', 'PUR', 'CDX', 'CLM', 'IBS', 'PEL', 'PJL',\n",
       "       'KHV', 'ACB', 'GWD', 'ESN', 'BEB', 'MSL', 'STU', 'ITU', 'CEU',\n",
       "       'YRI', 'CHB', 'JPT', 'LWK', 'ASW', 'MXL', 'TSI', 'GIH'],\n",
       "      dtype=object)"
      ]
     },
     "execution_count": 176,
     "metadata": {},
     "output_type": "execute_result"
    }
   ],
   "source": [
    "genomes1000['pop'].unique()"
   ]
  },
  {
   "cell_type": "markdown",
   "id": "26a9f3a4-b64a-4e29-b16b-757f01f67ded",
   "metadata": {},
   "source": [
    "population codes 1000 genomes data: \n",
    "\n",
    "CHB\tHan Chinese             Han Chinese in Beijing, China\\\n",
    "JPT\tJapanese                Japanese in Tokyo, Japan\\\n",
    "CHS\tSouthern Han Chinese    Han Chinese South\\\n",
    "CDX\tDai Chinese             Chinese Dai in Xishuangbanna, China\\\n",
    "KHV\tKinh Vietnamese         Kinh in Ho Chi Minh City, Vietnam\\\n",
    "CHD\tDenver Chinese          Chinese in Denver, Colorado (pilot 3 only)\\\n",
    "\\\n",
    "CEU\tCEPH                    Utah residents (CEPH) with Northern and Western European ancestry \\\n",
    "TSI\tTuscan                  Toscani in Italia \\\n",
    "GBR\tBritish                 British in England and Scotland \\\n",
    "FIN\tFinnish                 Finnish in Finland \\\n",
    "IBS\tSpanish                 Iberian populations in Spain \\\n",
    "\\\n",
    "YRI\tYoruba                  Yoruba in Ibadan, Nigeria\\\n",
    "LWK\tLuhya                   Luhya in Webuye, Kenya\\\n",
    "GWD\tGambian                 Gambian in Western Division, The Gambia \\\n",
    "MSL\tMende                   Mende in Sierra Leone\\\n",
    "ESN\tEsan                    Esan in Nigeria\\\n",
    "\\\n",
    "ASW\tAfrican-American SW     African Ancestry in Southwest US  \\\n",
    "ACB\tAfrican-Caribbean       African Caribbean in Barbados\\\n",
    "MXL\tMexican-American        Mexican Ancestry in Los Angeles, California\\\n",
    "PUR\tPuerto Rican            Puerto Rican in Puerto Rico\\\n",
    "CLM\tColombian               Colombian in Medellin, Colombia\\\n",
    "PEL\tPeruvian                Peruvian in Lima, Peru\\\n",
    "\\\n",
    "GIH\tGujarati                Gujarati Indian in Houston, TX\\\n",
    "PJL\tPunjabi                 Punjabi in Lahore, Pakistan\\\n",
    "BEB\tBengali                 Bengali in Bangladesh\\\n",
    "STU\tSri Lankan              Sri Lankan Tamil in the UK\\\n",
    "ITU\tIndian                  Indian Telugu in the UK\\"
   ]
  },
  {
   "cell_type": "code",
   "execution_count": 177,
   "id": "0aed844f-02cf-4f0f-b97f-3c6bae770084",
   "metadata": {
    "tags": []
   },
   "outputs": [
    {
     "data": {
      "text/plain": [
       "array(['EUR', 'EAS', 'AMR', 'SAS', 'AFR'], dtype=object)"
      ]
     },
     "execution_count": 177,
     "metadata": {},
     "output_type": "execute_result"
    }
   ],
   "source": [
    "genomes1000['super_pop'].unique()"
   ]
  },
  {
   "cell_type": "code",
   "execution_count": 178,
   "id": "1228ddd4-6805-4b56-ad27-fe3405a96b20",
   "metadata": {
    "tags": []
   },
   "outputs": [],
   "source": [
    "LEGsamples = {'sample': ['GC-JS-10487-LEG1002', 'GC-JS-10487-LEG1004', 'GC-JS-10487-LEG1005', 'GC-JS-10487-LEG1006', 'GC-JS-10487-LEG1007', 'GC-JS-10487-LEG1008', 'GC-JS-10487-LEG1009', 'GC-JS-10487-LEG1017', 'GC-JS-10487-LEG1018', 'GC-JS-10487-LEG1019', 'GC-JS-10487-LEG1021', 'GC-JS-10487-LEG1025', 'GC-JS-10487-LEG1028'], \n",
    "           'pop': ['unknown','unknown', 'unknown', 'unknown', 'unknown', 'unknown', 'unknown', 'unknown', 'unknown', 'unknown', 'unknown', 'unknown', 'unknown'], \n",
    "           'super_pop': ['unknown', 'unknown', 'unknown', 'unknown', 'unknown', 'unknown', 'unknown', 'unknown', 'unknown', 'unknown', 'unknown', 'unknown', 'unknown'], \n",
    "           'gender': ['female','male', 'female', 'female', 'female', 'female', 'male', 'female', 'male', 'female', 'male', 'male', 'female']}"
   ]
  },
  {
   "cell_type": "code",
   "execution_count": 179,
   "id": "f35fa541-a47b-4b23-aa47-ad2a9e6a0be7",
   "metadata": {
    "tags": []
   },
   "outputs": [],
   "source": [
    "LEGsamples_df = pd.DataFrame(LEGsamples)"
   ]
  },
  {
   "cell_type": "code",
   "execution_count": 181,
   "id": "40f95487-e865-48e5-8806-a9753ee54d83",
   "metadata": {
    "tags": []
   },
   "outputs": [],
   "source": [
    "HGDP = pd.read_csv(r\"\\LEGACY\\Genotyping\\DataPreparation\\populationfile\\hgdp_wgs_20190516_metadata.txt\", delimiter='\\t')"
   ]
  },
  {
   "cell_type": "code",
   "execution_count": 183,
   "id": "5e52e5d3-b624-4123-ba10-b37085e134bd",
   "metadata": {
    "tags": []
   },
   "outputs": [],
   "source": [
    "pop_codes = {'Brahui':'BRA', \n",
    "            'Balochi': 'BAL', \n",
    "            'Hazara':'HAZ', \n",
    "            'Makrani':'MAK', \n",
    "            'Sindhi':'SIN', \n",
    "            'Pathan':'PAT',\n",
    "            'Kalash':'KAL', \n",
    "            'Burusho':'BUR', \n",
    "            'Mbuti':'MBU', \n",
    "            'Biaka':'BIA', \n",
    "            'Bougainville':'BOU', \n",
    "            'French':'FRE',\n",
    "            'PapuanSepik':'PAS', \n",
    "            'PapuanHighlands':'PAH', \n",
    "            'Druze':'DRU', \n",
    "            'Bedouin':'BED', \n",
    "            'Sardinian':'SAR',\n",
    "            'Palestinian':'PAL', \n",
    "            'Colombian':'COL', \n",
    "            'Cambodian':'CAM', \n",
    "            'Japanese':'JAP', \n",
    "            'Han':'HAN',\n",
    "            'Orcadian':'ORC', \n",
    "            'Surui':'SAI', \n",
    "            'Maya':'MAY', \n",
    "            'Russian':'RUS', \n",
    "            'Mandenka':'MAN', \n",
    "            'Yoruba':'YOR',\n",
    "            'Yakut':'YAK', \n",
    "            'San':'SAN', \n",
    "            'BantuSouthAfrica':'BSA', \n",
    "            'Karitiana':'KAR', \n",
    "            'Pima':'PIM', \n",
    "            'Tujia':'TUJ',\n",
    "            'BergamoItalian':'BIT', \n",
    "            'Tuscan':'TUS', \n",
    "            'Yi':'YI', \n",
    "            'Miao':'MIA', \n",
    "            'Oroqen':'ORO', \n",
    "            'Daur':'DAU',\n",
    "            'Mongolian':'MON', \n",
    "            'Hezhen':'HEZ', \n",
    "            'Xibo':'XIB', \n",
    "            'Mozabite':'MOZ', \n",
    "            'NorthernHan':'NHA', \n",
    "            'Uygur':'UYG',\n",
    "            'Dai':'DAI', \n",
    "            'Lahu':'LAH', \n",
    "            'She':'SHE', \n",
    "            'Naxi':'NAX', \n",
    "            'Tu':'TU', \n",
    "            'Basque':'BAS', \n",
    "            'Adygei':'ADY',\n",
    "            'BantuKenya':'BAN'}"
   ]
  },
  {
   "cell_type": "code",
   "execution_count": 184,
   "id": "0b036e98-7ab8-4106-bf9f-69f4f514462c",
   "metadata": {
    "tags": []
   },
   "outputs": [],
   "source": [
    "region_codes = {'CENTRAL_SOUTH_ASIA':'CSA', \n",
    "                'AFRICA':'AFR', \n",
    "                'OCEANIA':'OCE', \n",
    "                'EUROPE':'EUR', \n",
    "                'MIDDLE_EAST':'MDE',\n",
    "                'AMERICA':'AMR', \n",
    "                'EAST_ASIA':'EAS'}"
   ]
  },
  {
   "cell_type": "code",
   "execution_count": 185,
   "id": "2fa02b43-8617-4976-b158-22459415d193",
   "metadata": {
    "tags": []
   },
   "outputs": [],
   "source": [
    "sex_codes = {'M':'male', 'F':'female'}"
   ]
  },
  {
   "cell_type": "code",
   "execution_count": 186,
   "id": "11df942a-71f7-4f63-ab7d-fe13d98dfa8b",
   "metadata": {
    "tags": []
   },
   "outputs": [],
   "source": [
    "HGDP['pop'] = HGDP['population'].map(pop_codes)\n",
    "HGDP['super_pop'] = HGDP['region'].map(region_codes)\n",
    "HGDP['gender'] = HGDP['sex'].map(sex_codes)"
   ]
  },
  {
   "cell_type": "code",
   "execution_count": 188,
   "id": "631d5122-a04e-4fb1-abcd-16a5f2cb032d",
   "metadata": {
    "tags": []
   },
   "outputs": [],
   "source": [
    "HGDP.drop(columns=['library', 'sample_accession', 'source', 'library_type','population', 'latitude', 'longitude', 'region', 'sex', 'coverage','freemix', 'capmq', 'insert_size_average','array_non_reference_discordance'], axis=1, inplace=True)"
   ]
  },
  {
   "cell_type": "code",
   "execution_count": 189,
   "id": "4c889ebb-2b95-4a87-bf77-12590c5b060a",
   "metadata": {
    "tags": []
   },
   "outputs": [],
   "source": [
    "#merge 1000genomes data, HGDP, and our samples together\n",
    "merge_pop = pd.concat([genomes1000,HGDP,LEGsamples_df], ignore_index=True)"
   ]
  },
  {
   "cell_type": "code",
   "execution_count": 191,
   "id": "db1ce964-9180-498d-a158-4cea6e774f0c",
   "metadata": {
    "tags": []
   },
   "outputs": [],
   "source": [
    "#.fam file with sample ID from our merged dataset \n",
    "merged_fam = pd.read_csv(r\"\\LEGACY\\Genotyping\\DataPreparation\\finaldatafromlinux\\LEG1_JasonsRef_merged.fam\", delimiter=' ', names=['FID','sample','PID1','PID2','sex','phenotype'])"
   ]
  },
  {
   "cell_type": "code",
   "execution_count": null,
   "id": "cadbf028-1039-4811-afbe-2296f0a975ff",
   "metadata": {
    "tags": []
   },
   "outputs": [],
   "source": [
    "#making sure that all sample IDs match from both files\n",
    "merged_fam[~merged_fam['sample'].isin(merge_pop['sample'])]"
   ]
  },
  {
   "cell_type": "code",
   "execution_count": 194,
   "id": "5e101d17-74f0-4289-90cc-21a8acfb812a",
   "metadata": {
    "tags": []
   },
   "outputs": [],
   "source": [
    "#project order of .fam file sample IDs on population file \n",
    "merge_pop = merge_pop.set_index('sample')\n",
    "merge_pop = merge_pop.reindex(index=merged_fam['sample'])\n",
    "merge_pop = merge_pop.reset_index()"
   ]
  },
  {
   "cell_type": "code",
   "execution_count": 196,
   "id": "e18a6f68-6995-4262-a23a-6913682ffd3f",
   "metadata": {
    "tags": []
   },
   "outputs": [
    {
     "data": {
      "text/plain": [
       "True"
      ]
     },
     "execution_count": 196,
     "metadata": {},
     "output_type": "execute_result"
    }
   ],
   "source": [
    "#test if reordering worked\n",
    "merged_fam['sample'].equals(merge_pop['sample'])"
   ]
  },
  {
   "cell_type": "code",
   "execution_count": 197,
   "id": "86887df8-8ae7-4063-b62e-74ebef896eb1",
   "metadata": {
    "tags": []
   },
   "outputs": [],
   "source": [
    "#save merged population file \n",
    "merge_pop.to_csv(r\"\\LEGACY\\Genotyping\\DataPreparation\\populationfile\\LEG1_Jason_merge_pop.txt\", header=True, sep='\\t', index=False)"
   ]
  }
 ],
 "metadata": {
  "kernelspec": {
   "display_name": "general",
   "language": "python",
   "name": "general"
  },
  "language_info": {
   "codemirror_mode": {
    "name": "ipython",
    "version": 3
   },
   "file_extension": ".py",
   "mimetype": "text/x-python",
   "name": "python",
   "nbconvert_exporter": "python",
   "pygments_lexer": "ipython3",
   "version": "3.12.0"
  }
 },
 "nbformat": 4,
 "nbformat_minor": 5
}
